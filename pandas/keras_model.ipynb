{
 "cells": [
  {
   "cell_type": "code",
   "execution_count": 108,
   "metadata": {
    "collapsed": true
   },
   "outputs": [],
   "source": [
    "# Import dependencies\n",
    "import numpy as np\n",
    "import pandas as pd"
   ]
  },
  {
   "cell_type": "code",
   "execution_count": 109,
   "metadata": {},
   "outputs": [
    {
     "name": "stdout",
     "output_type": "stream",
     "text": [
      "analysis_clean_train_data.ipynb\n",
      "clean_train_data.ipynb\n",
      "CleanTrainData.csv\n",
      "data_for_model.csv\n",
      "data_for_model.ipynb\n",
      "keras_model.ipynb\n",
      "keras_model_adam.ipynb\n",
      "Loan_Approval\n",
      "model_keras.h5\n",
      "model_scaler.pkl\n",
      "random_forest_test.ipynb\n",
      "TrainData.csv\n",
      "with.csv\n",
      "without.csv\n"
     ]
    }
   ],
   "source": [
    "!ls"
   ]
  },
  {
   "cell_type": "code",
   "execution_count": 110,
   "metadata": {
    "collapsed": true
   },
   "outputs": [],
   "source": [
    "# read the data\n",
    "\n",
    "data = pd.read_csv(\"data_for_model.csv\")"
   ]
  },
  {
   "cell_type": "code",
   "execution_count": 111,
   "metadata": {
    "scrolled": true
   },
   "outputs": [
    {
     "data": {
      "text/html": [
       "<div>\n",
       "<style>\n",
       "    .dataframe thead tr:only-child th {\n",
       "        text-align: right;\n",
       "    }\n",
       "\n",
       "    .dataframe thead th {\n",
       "        text-align: left;\n",
       "    }\n",
       "\n",
       "    .dataframe tbody tr th {\n",
       "        vertical-align: top;\n",
       "    }\n",
       "</style>\n",
       "<table border=\"1\" class=\"dataframe\">\n",
       "  <thead>\n",
       "    <tr style=\"text-align: right;\">\n",
       "      <th></th>\n",
       "      <th>Unnamed: 0</th>\n",
       "      <th>Married</th>\n",
       "      <th>Dependents</th>\n",
       "      <th>Education</th>\n",
       "      <th>Self_Employed</th>\n",
       "      <th>ApplicantIncome</th>\n",
       "      <th>CoapplicantIncome</th>\n",
       "      <th>LoanAmount</th>\n",
       "      <th>Loan_Amount_Term</th>\n",
       "      <th>Credit_History</th>\n",
       "      <th>Property_Area</th>\n",
       "      <th>Loan_Status</th>\n",
       "    </tr>\n",
       "  </thead>\n",
       "  <tbody>\n",
       "    <tr>\n",
       "      <th>609</th>\n",
       "      <td>609</td>\n",
       "      <td>0</td>\n",
       "      <td>0</td>\n",
       "      <td>1</td>\n",
       "      <td>0</td>\n",
       "      <td>2900</td>\n",
       "      <td>0.0</td>\n",
       "      <td>71.0</td>\n",
       "      <td>360.0</td>\n",
       "      <td>1.0</td>\n",
       "      <td>2</td>\n",
       "      <td>1</td>\n",
       "    </tr>\n",
       "    <tr>\n",
       "      <th>610</th>\n",
       "      <td>610</td>\n",
       "      <td>1</td>\n",
       "      <td>3</td>\n",
       "      <td>1</td>\n",
       "      <td>0</td>\n",
       "      <td>4106</td>\n",
       "      <td>0.0</td>\n",
       "      <td>40.0</td>\n",
       "      <td>180.0</td>\n",
       "      <td>1.0</td>\n",
       "      <td>2</td>\n",
       "      <td>1</td>\n",
       "    </tr>\n",
       "    <tr>\n",
       "      <th>611</th>\n",
       "      <td>611</td>\n",
       "      <td>1</td>\n",
       "      <td>1</td>\n",
       "      <td>1</td>\n",
       "      <td>0</td>\n",
       "      <td>8072</td>\n",
       "      <td>240.0</td>\n",
       "      <td>253.0</td>\n",
       "      <td>360.0</td>\n",
       "      <td>1.0</td>\n",
       "      <td>0</td>\n",
       "      <td>1</td>\n",
       "    </tr>\n",
       "    <tr>\n",
       "      <th>612</th>\n",
       "      <td>612</td>\n",
       "      <td>1</td>\n",
       "      <td>2</td>\n",
       "      <td>1</td>\n",
       "      <td>0</td>\n",
       "      <td>7583</td>\n",
       "      <td>0.0</td>\n",
       "      <td>187.0</td>\n",
       "      <td>360.0</td>\n",
       "      <td>1.0</td>\n",
       "      <td>0</td>\n",
       "      <td>1</td>\n",
       "    </tr>\n",
       "    <tr>\n",
       "      <th>613</th>\n",
       "      <td>613</td>\n",
       "      <td>0</td>\n",
       "      <td>0</td>\n",
       "      <td>1</td>\n",
       "      <td>1</td>\n",
       "      <td>4583</td>\n",
       "      <td>0.0</td>\n",
       "      <td>133.0</td>\n",
       "      <td>360.0</td>\n",
       "      <td>0.0</td>\n",
       "      <td>1</td>\n",
       "      <td>0</td>\n",
       "    </tr>\n",
       "  </tbody>\n",
       "</table>\n",
       "</div>"
      ],
      "text/plain": [
       "     Unnamed: 0  Married  Dependents  Education  Self_Employed  \\\n",
       "609         609        0           0          1              0   \n",
       "610         610        1           3          1              0   \n",
       "611         611        1           1          1              0   \n",
       "612         612        1           2          1              0   \n",
       "613         613        0           0          1              1   \n",
       "\n",
       "     ApplicantIncome  CoapplicantIncome  LoanAmount  Loan_Amount_Term  \\\n",
       "609             2900                0.0        71.0             360.0   \n",
       "610             4106                0.0        40.0             180.0   \n",
       "611             8072              240.0       253.0             360.0   \n",
       "612             7583                0.0       187.0             360.0   \n",
       "613             4583                0.0       133.0             360.0   \n",
       "\n",
       "     Credit_History  Property_Area  Loan_Status  \n",
       "609             1.0              2            1  \n",
       "610             1.0              2            1  \n",
       "611             1.0              0            1  \n",
       "612             1.0              0            1  \n",
       "613             0.0              1            0  "
      ]
     },
     "execution_count": 111,
     "metadata": {},
     "output_type": "execute_result"
    }
   ],
   "source": [
    "data.tail()"
   ]
  },
  {
   "cell_type": "code",
   "execution_count": 112,
   "metadata": {
    "collapsed": true
   },
   "outputs": [],
   "source": [
    "data = data.drop('Unnamed: 0', axis=1)"
   ]
  },
  {
   "cell_type": "code",
   "execution_count": 113,
   "metadata": {},
   "outputs": [
    {
     "name": "stdout",
     "output_type": "stream",
     "text": [
      "(614, 10) (614,)\n"
     ]
    }
   ],
   "source": [
    "# prep X and y \n",
    "# where 'loan status' as output \n",
    "\n",
    "X = data.drop(\"Loan_Status\", axis=1)\n",
    "y = data[\"Loan_Status\"]\n",
    "print(X.shape, y.shape)"
   ]
  },
  {
   "cell_type": "code",
   "execution_count": null,
   "metadata": {
    "collapsed": true
   },
   "outputs": [],
   "source": []
  },
  {
   "cell_type": "code",
   "execution_count": 114,
   "metadata": {
    "collapsed": true
   },
   "outputs": [],
   "source": [
    "# use sklearn model\n",
    "# TensorFlow\n",
    "\n",
    "from sklearn.model_selection import train_test_split\n",
    "from sklearn.preprocessing import LabelEncoder, StandardScaler\n",
    "from keras.utils import to_categorical"
   ]
  },
  {
   "cell_type": "code",
   "execution_count": 115,
   "metadata": {
    "collapsed": true
   },
   "outputs": [],
   "source": [
    "# prep test and training data\n",
    "\n",
    "X_train, X_test, y_train, y_test = train_test_split(X, y, random_state=1, stratify=y)\n",
    "X_scaler = StandardScaler().fit(X_train)\n",
    "X_train_scaled = X_scaler.transform(X_train)\n",
    "X_test_scaled = X_scaler.transform(X_test)"
   ]
  },
  {
   "cell_type": "code",
   "execution_count": 116,
   "metadata": {},
   "outputs": [
    {
     "data": {
      "text/plain": [
       "460"
      ]
     },
     "execution_count": 116,
     "metadata": {},
     "output_type": "execute_result"
    }
   ],
   "source": [
    "len(X_train_scaled)"
   ]
  },
  {
   "cell_type": "code",
   "execution_count": 117,
   "metadata": {
    "collapsed": true
   },
   "outputs": [],
   "source": [
    "# Step 1: Label-encode data set\n",
    "label_encoder = LabelEncoder()\n",
    "label_encoder.fit(y_train)\n",
    "encoded_y_train = label_encoder.transform(y_train)\n",
    "encoded_y_test = label_encoder.transform(y_test)"
   ]
  },
  {
   "cell_type": "code",
   "execution_count": 118,
   "metadata": {
    "collapsed": true
   },
   "outputs": [],
   "source": [
    "# Step 2: Convert encoded labels to one-hot-encoding\n",
    "y_train_categorical = to_categorical(encoded_y_train)\n",
    "y_test_categorical = to_categorical(encoded_y_test)"
   ]
  },
  {
   "cell_type": "code",
   "execution_count": 119,
   "metadata": {},
   "outputs": [
    {
     "data": {
      "text/plain": [
       "460"
      ]
     },
     "execution_count": 119,
     "metadata": {},
     "output_type": "execute_result"
    }
   ],
   "source": [
    "len(y_train_categorical)"
   ]
  },
  {
   "cell_type": "code",
   "execution_count": 120,
   "metadata": {
    "collapsed": true
   },
   "outputs": [],
   "source": [
    "from keras.models import Sequential\n",
    "from keras.layers import Dense"
   ]
  },
  {
   "cell_type": "code",
   "execution_count": 121,
   "metadata": {
    "collapsed": true
   },
   "outputs": [],
   "source": [
    "model = Sequential()\n",
    "model.add(Dense(units=40, activation='relu', input_dim=10))\n",
    "model.add(Dense(units=40, activation='relu'))\n",
    "model.add(Dense(units=2, activation='softmax'))"
   ]
  },
  {
   "cell_type": "code",
   "execution_count": 122,
   "metadata": {},
   "outputs": [
    {
     "name": "stdout",
     "output_type": "stream",
     "text": [
      "Train on 460 samples, validate on 154 samples\n",
      "Epoch 1/200\n",
      " - 0s - loss: 0.6610 - acc: 0.6022 - val_loss: 0.6427 - val_acc: 0.6623\n",
      "Epoch 2/200\n",
      " - 0s - loss: 0.6297 - acc: 0.6935 - val_loss: 0.6139 - val_acc: 0.7208\n",
      "Epoch 3/200\n",
      " - 0s - loss: 0.6060 - acc: 0.7500 - val_loss: 0.5913 - val_acc: 0.7857\n",
      "Epoch 4/200\n",
      " - 0s - loss: 0.5871 - acc: 0.7783 - val_loss: 0.5735 - val_acc: 0.7922\n",
      "Epoch 5/200\n",
      " - 0s - loss: 0.5706 - acc: 0.7935 - val_loss: 0.5593 - val_acc: 0.7987\n",
      "Epoch 6/200\n",
      " - 0s - loss: 0.5573 - acc: 0.8022 - val_loss: 0.5460 - val_acc: 0.8182\n",
      "Epoch 7/200\n",
      " - 0s - loss: 0.5450 - acc: 0.8109 - val_loss: 0.5350 - val_acc: 0.8247\n",
      "Epoch 8/200\n",
      " - 0s - loss: 0.5345 - acc: 0.8130 - val_loss: 0.5248 - val_acc: 0.8312\n",
      "Epoch 9/200\n",
      " - 0s - loss: 0.5249 - acc: 0.8174 - val_loss: 0.5154 - val_acc: 0.8377\n",
      "Epoch 10/200\n",
      " - 0s - loss: 0.5156 - acc: 0.8174 - val_loss: 0.5065 - val_acc: 0.8377\n",
      "Epoch 11/200\n",
      " - 0s - loss: 0.5078 - acc: 0.8196 - val_loss: 0.4989 - val_acc: 0.8377\n",
      "Epoch 12/200\n",
      " - 0s - loss: 0.5004 - acc: 0.8196 - val_loss: 0.4918 - val_acc: 0.8377\n",
      "Epoch 13/200\n",
      " - 0s - loss: 0.4940 - acc: 0.8196 - val_loss: 0.4857 - val_acc: 0.8442\n",
      "Epoch 14/200\n",
      " - 0s - loss: 0.4879 - acc: 0.8217 - val_loss: 0.4801 - val_acc: 0.8442\n",
      "Epoch 15/200\n",
      " - 0s - loss: 0.4824 - acc: 0.8261 - val_loss: 0.4757 - val_acc: 0.8442\n",
      "Epoch 16/200\n",
      " - 0s - loss: 0.4778 - acc: 0.8261 - val_loss: 0.4713 - val_acc: 0.8442\n",
      "Epoch 17/200\n",
      " - 0s - loss: 0.4736 - acc: 0.8261 - val_loss: 0.4673 - val_acc: 0.8442\n",
      "Epoch 18/200\n",
      " - 0s - loss: 0.4696 - acc: 0.8261 - val_loss: 0.4642 - val_acc: 0.8442\n",
      "Epoch 19/200\n",
      " - 0s - loss: 0.4659 - acc: 0.8261 - val_loss: 0.4607 - val_acc: 0.8442\n",
      "Epoch 20/200\n",
      " - 0s - loss: 0.4623 - acc: 0.8283 - val_loss: 0.4578 - val_acc: 0.8442\n",
      "Epoch 21/200\n",
      " - 0s - loss: 0.4592 - acc: 0.8283 - val_loss: 0.4553 - val_acc: 0.8442\n",
      "Epoch 22/200\n",
      " - 0s - loss: 0.4563 - acc: 0.8283 - val_loss: 0.4530 - val_acc: 0.8442\n",
      "Epoch 23/200\n",
      " - 0s - loss: 0.4541 - acc: 0.8283 - val_loss: 0.4508 - val_acc: 0.8442\n",
      "Epoch 24/200\n",
      " - 0s - loss: 0.4516 - acc: 0.8304 - val_loss: 0.4487 - val_acc: 0.8442\n",
      "Epoch 25/200\n",
      " - 0s - loss: 0.4489 - acc: 0.8304 - val_loss: 0.4470 - val_acc: 0.8442\n",
      "Epoch 26/200\n",
      " - 0s - loss: 0.4467 - acc: 0.8304 - val_loss: 0.4452 - val_acc: 0.8442\n",
      "Epoch 27/200\n",
      " - 0s - loss: 0.4447 - acc: 0.8304 - val_loss: 0.4437 - val_acc: 0.8442\n",
      "Epoch 28/200\n",
      " - 0s - loss: 0.4432 - acc: 0.8283 - val_loss: 0.4427 - val_acc: 0.8442\n",
      "Epoch 29/200\n",
      " - 0s - loss: 0.4415 - acc: 0.8304 - val_loss: 0.4415 - val_acc: 0.8442\n",
      "Epoch 30/200\n",
      " - 0s - loss: 0.4397 - acc: 0.8304 - val_loss: 0.4404 - val_acc: 0.8442\n",
      "Epoch 31/200\n",
      " - 0s - loss: 0.4380 - acc: 0.8304 - val_loss: 0.4397 - val_acc: 0.8442\n",
      "Epoch 32/200\n",
      " - 0s - loss: 0.4365 - acc: 0.8304 - val_loss: 0.4388 - val_acc: 0.8442\n",
      "Epoch 33/200\n",
      " - 0s - loss: 0.4353 - acc: 0.8304 - val_loss: 0.4378 - val_acc: 0.8442\n",
      "Epoch 34/200\n",
      " - 0s - loss: 0.4337 - acc: 0.8304 - val_loss: 0.4372 - val_acc: 0.8442\n",
      "Epoch 35/200\n",
      " - 0s - loss: 0.4327 - acc: 0.8304 - val_loss: 0.4364 - val_acc: 0.8442\n",
      "Epoch 36/200\n",
      " - 0s - loss: 0.4317 - acc: 0.8304 - val_loss: 0.4357 - val_acc: 0.8442\n",
      "Epoch 37/200\n",
      " - 0s - loss: 0.4304 - acc: 0.8304 - val_loss: 0.4353 - val_acc: 0.8442\n",
      "Epoch 38/200\n",
      " - 0s - loss: 0.4295 - acc: 0.8304 - val_loss: 0.4350 - val_acc: 0.8442\n",
      "Epoch 39/200\n",
      " - 0s - loss: 0.4281 - acc: 0.8304 - val_loss: 0.4345 - val_acc: 0.8442\n",
      "Epoch 40/200\n",
      " - 0s - loss: 0.4274 - acc: 0.8304 - val_loss: 0.4344 - val_acc: 0.8442\n",
      "Epoch 41/200\n",
      " - 0s - loss: 0.4264 - acc: 0.8304 - val_loss: 0.4341 - val_acc: 0.8442\n",
      "Epoch 42/200\n",
      " - 0s - loss: 0.4256 - acc: 0.8304 - val_loss: 0.4337 - val_acc: 0.8442\n",
      "Epoch 43/200\n",
      " - 0s - loss: 0.4251 - acc: 0.8304 - val_loss: 0.4334 - val_acc: 0.8442\n",
      "Epoch 44/200\n",
      " - 0s - loss: 0.4237 - acc: 0.8304 - val_loss: 0.4329 - val_acc: 0.8442\n",
      "Epoch 45/200\n",
      " - 0s - loss: 0.4228 - acc: 0.8304 - val_loss: 0.4327 - val_acc: 0.8442\n",
      "Epoch 46/200\n",
      " - 0s - loss: 0.4223 - acc: 0.8304 - val_loss: 0.4324 - val_acc: 0.8442\n",
      "Epoch 47/200\n",
      " - 0s - loss: 0.4214 - acc: 0.8304 - val_loss: 0.4323 - val_acc: 0.8442\n",
      "Epoch 48/200\n",
      " - 0s - loss: 0.4205 - acc: 0.8304 - val_loss: 0.4319 - val_acc: 0.8442\n",
      "Epoch 49/200\n",
      " - 0s - loss: 0.4199 - acc: 0.8304 - val_loss: 0.4318 - val_acc: 0.8442\n",
      "Epoch 50/200\n",
      " - 0s - loss: 0.4192 - acc: 0.8304 - val_loss: 0.4314 - val_acc: 0.8442\n",
      "Epoch 51/200\n",
      " - 0s - loss: 0.4181 - acc: 0.8304 - val_loss: 0.4311 - val_acc: 0.8442\n",
      "Epoch 52/200\n",
      " - 0s - loss: 0.4178 - acc: 0.8304 - val_loss: 0.4310 - val_acc: 0.8442\n",
      "Epoch 53/200\n",
      " - 0s - loss: 0.4171 - acc: 0.8304 - val_loss: 0.4305 - val_acc: 0.8442\n",
      "Epoch 54/200\n",
      " - 0s - loss: 0.4162 - acc: 0.8304 - val_loss: 0.4304 - val_acc: 0.8442\n",
      "Epoch 55/200\n",
      " - 0s - loss: 0.4156 - acc: 0.8304 - val_loss: 0.4304 - val_acc: 0.8442\n",
      "Epoch 56/200\n",
      " - 0s - loss: 0.4154 - acc: 0.8304 - val_loss: 0.4300 - val_acc: 0.8442\n",
      "Epoch 57/200\n",
      " - 0s - loss: 0.4146 - acc: 0.8304 - val_loss: 0.4302 - val_acc: 0.8442\n",
      "Epoch 58/200\n",
      " - 0s - loss: 0.4138 - acc: 0.8304 - val_loss: 0.4304 - val_acc: 0.8442\n",
      "Epoch 59/200\n",
      " - 0s - loss: 0.4134 - acc: 0.8304 - val_loss: 0.4302 - val_acc: 0.8442\n",
      "Epoch 60/200\n",
      " - 0s - loss: 0.4125 - acc: 0.8304 - val_loss: 0.4302 - val_acc: 0.8442\n",
      "Epoch 61/200\n",
      " - 0s - loss: 0.4119 - acc: 0.8304 - val_loss: 0.4300 - val_acc: 0.8442\n",
      "Epoch 62/200\n",
      " - 0s - loss: 0.4116 - acc: 0.8304 - val_loss: 0.4299 - val_acc: 0.8442\n",
      "Epoch 63/200\n",
      " - 0s - loss: 0.4107 - acc: 0.8304 - val_loss: 0.4297 - val_acc: 0.8442\n",
      "Epoch 64/200\n",
      " - 0s - loss: 0.4103 - acc: 0.8304 - val_loss: 0.4298 - val_acc: 0.8442\n",
      "Epoch 65/200\n",
      " - 0s - loss: 0.4096 - acc: 0.8304 - val_loss: 0.4296 - val_acc: 0.8442\n",
      "Epoch 66/200\n",
      " - 0s - loss: 0.4095 - acc: 0.8304 - val_loss: 0.4300 - val_acc: 0.8442\n",
      "Epoch 67/200\n",
      " - 0s - loss: 0.4089 - acc: 0.8348 - val_loss: 0.4300 - val_acc: 0.8442\n",
      "Epoch 68/200\n",
      " - 0s - loss: 0.4081 - acc: 0.8370 - val_loss: 0.4299 - val_acc: 0.8442\n",
      "Epoch 69/200\n",
      " - 0s - loss: 0.4076 - acc: 0.8370 - val_loss: 0.4297 - val_acc: 0.8442\n",
      "Epoch 70/200\n",
      " - 0s - loss: 0.4069 - acc: 0.8326 - val_loss: 0.4300 - val_acc: 0.8442\n",
      "Epoch 71/200\n",
      " - 0s - loss: 0.4069 - acc: 0.8370 - val_loss: 0.4307 - val_acc: 0.8442\n",
      "Epoch 72/200\n",
      " - 0s - loss: 0.4061 - acc: 0.8370 - val_loss: 0.4310 - val_acc: 0.8442\n",
      "Epoch 73/200\n",
      " - 0s - loss: 0.4057 - acc: 0.8370 - val_loss: 0.4310 - val_acc: 0.8442\n",
      "Epoch 74/200\n",
      " - 0s - loss: 0.4050 - acc: 0.8370 - val_loss: 0.4309 - val_acc: 0.8442\n",
      "Epoch 75/200\n",
      " - 0s - loss: 0.4046 - acc: 0.8370 - val_loss: 0.4310 - val_acc: 0.8442\n",
      "Epoch 76/200\n",
      " - 0s - loss: 0.4040 - acc: 0.8370 - val_loss: 0.4308 - val_acc: 0.8442\n",
      "Epoch 77/200\n",
      " - 0s - loss: 0.4037 - acc: 0.8370 - val_loss: 0.4305 - val_acc: 0.8442\n",
      "Epoch 78/200\n",
      " - 0s - loss: 0.4028 - acc: 0.8370 - val_loss: 0.4306 - val_acc: 0.8442\n",
      "Epoch 79/200\n",
      " - 0s - loss: 0.4024 - acc: 0.8370 - val_loss: 0.4307 - val_acc: 0.8442\n",
      "Epoch 80/200\n",
      " - 0s - loss: 0.4017 - acc: 0.8370 - val_loss: 0.4308 - val_acc: 0.8442\n",
      "Epoch 81/200\n",
      " - 0s - loss: 0.4014 - acc: 0.8370 - val_loss: 0.4307 - val_acc: 0.8442\n",
      "Epoch 82/200\n",
      " - 0s - loss: 0.4009 - acc: 0.8370 - val_loss: 0.4306 - val_acc: 0.8442\n",
      "Epoch 83/200\n",
      " - 0s - loss: 0.4005 - acc: 0.8370 - val_loss: 0.4307 - val_acc: 0.8442\n",
      "Epoch 84/200\n",
      " - 0s - loss: 0.3998 - acc: 0.8370 - val_loss: 0.4307 - val_acc: 0.8442\n",
      "Epoch 85/200\n",
      " - 0s - loss: 0.3994 - acc: 0.8370 - val_loss: 0.4307 - val_acc: 0.8442\n",
      "Epoch 86/200\n",
      " - 0s - loss: 0.3993 - acc: 0.8370 - val_loss: 0.4305 - val_acc: 0.8442\n",
      "Epoch 87/200\n",
      " - 0s - loss: 0.3985 - acc: 0.8370 - val_loss: 0.4311 - val_acc: 0.8442\n",
      "Epoch 88/200\n",
      " - 0s - loss: 0.3980 - acc: 0.8370 - val_loss: 0.4309 - val_acc: 0.8442\n",
      "Epoch 89/200\n",
      " - 0s - loss: 0.3975 - acc: 0.8370 - val_loss: 0.4308 - val_acc: 0.8442\n",
      "Epoch 90/200\n",
      " - 0s - loss: 0.3970 - acc: 0.8370 - val_loss: 0.4308 - val_acc: 0.8442\n",
      "Epoch 91/200\n",
      " - 0s - loss: 0.3963 - acc: 0.8370 - val_loss: 0.4310 - val_acc: 0.8442\n",
      "Epoch 92/200\n",
      " - 0s - loss: 0.3959 - acc: 0.8370 - val_loss: 0.4310 - val_acc: 0.8442\n",
      "Epoch 93/200\n",
      " - 0s - loss: 0.3956 - acc: 0.8370 - val_loss: 0.4311 - val_acc: 0.8442\n",
      "Epoch 94/200\n",
      " - 0s - loss: 0.3952 - acc: 0.8370 - val_loss: 0.4313 - val_acc: 0.8442\n",
      "Epoch 95/200\n",
      " - 0s - loss: 0.3950 - acc: 0.8370 - val_loss: 0.4315 - val_acc: 0.8442\n",
      "Epoch 96/200\n",
      " - 0s - loss: 0.3942 - acc: 0.8391 - val_loss: 0.4312 - val_acc: 0.8442\n"
     ]
    },
    {
     "name": "stdout",
     "output_type": "stream",
     "text": [
      "Epoch 97/200\n",
      " - 0s - loss: 0.3941 - acc: 0.8348 - val_loss: 0.4310 - val_acc: 0.8442\n",
      "Epoch 98/200\n",
      " - 0s - loss: 0.3934 - acc: 0.8370 - val_loss: 0.4310 - val_acc: 0.8442\n",
      "Epoch 99/200\n",
      " - 0s - loss: 0.3929 - acc: 0.8370 - val_loss: 0.4307 - val_acc: 0.8442\n",
      "Epoch 100/200\n",
      " - 0s - loss: 0.3926 - acc: 0.8370 - val_loss: 0.4309 - val_acc: 0.8442\n",
      "Epoch 101/200\n",
      " - 0s - loss: 0.3918 - acc: 0.8370 - val_loss: 0.4309 - val_acc: 0.8442\n",
      "Epoch 102/200\n",
      " - 0s - loss: 0.3914 - acc: 0.8370 - val_loss: 0.4314 - val_acc: 0.8442\n",
      "Epoch 103/200\n",
      " - 0s - loss: 0.3910 - acc: 0.8370 - val_loss: 0.4316 - val_acc: 0.8442\n",
      "Epoch 104/200\n",
      " - 0s - loss: 0.3905 - acc: 0.8370 - val_loss: 0.4314 - val_acc: 0.8442\n",
      "Epoch 105/200\n",
      " - 0s - loss: 0.3901 - acc: 0.8370 - val_loss: 0.4318 - val_acc: 0.8442\n",
      "Epoch 106/200\n",
      " - 0s - loss: 0.3895 - acc: 0.8370 - val_loss: 0.4318 - val_acc: 0.8442\n",
      "Epoch 107/200\n",
      " - 0s - loss: 0.3894 - acc: 0.8391 - val_loss: 0.4319 - val_acc: 0.8442\n",
      "Epoch 108/200\n",
      " - 0s - loss: 0.3887 - acc: 0.8391 - val_loss: 0.4317 - val_acc: 0.8442\n",
      "Epoch 109/200\n",
      " - 0s - loss: 0.3884 - acc: 0.8391 - val_loss: 0.4323 - val_acc: 0.8442\n",
      "Epoch 110/200\n",
      " - 0s - loss: 0.3881 - acc: 0.8391 - val_loss: 0.4322 - val_acc: 0.8442\n",
      "Epoch 111/200\n",
      " - 0s - loss: 0.3878 - acc: 0.8391 - val_loss: 0.4322 - val_acc: 0.8442\n",
      "Epoch 112/200\n",
      " - 0s - loss: 0.3870 - acc: 0.8391 - val_loss: 0.4325 - val_acc: 0.8442\n",
      "Epoch 113/200\n",
      " - 0s - loss: 0.3867 - acc: 0.8370 - val_loss: 0.4323 - val_acc: 0.8442\n",
      "Epoch 114/200\n",
      " - 0s - loss: 0.3862 - acc: 0.8391 - val_loss: 0.4324 - val_acc: 0.8442\n",
      "Epoch 115/200\n",
      " - 0s - loss: 0.3856 - acc: 0.8370 - val_loss: 0.4321 - val_acc: 0.8442\n",
      "Epoch 116/200\n",
      " - 0s - loss: 0.3854 - acc: 0.8391 - val_loss: 0.4320 - val_acc: 0.8442\n",
      "Epoch 117/200\n",
      " - 0s - loss: 0.3848 - acc: 0.8391 - val_loss: 0.4320 - val_acc: 0.8442\n",
      "Epoch 118/200\n",
      " - 0s - loss: 0.3844 - acc: 0.8391 - val_loss: 0.4319 - val_acc: 0.8442\n",
      "Epoch 119/200\n",
      " - 0s - loss: 0.3840 - acc: 0.8370 - val_loss: 0.4322 - val_acc: 0.8442\n",
      "Epoch 120/200\n",
      " - 0s - loss: 0.3838 - acc: 0.8370 - val_loss: 0.4323 - val_acc: 0.8442\n",
      "Epoch 121/200\n",
      " - 0s - loss: 0.3830 - acc: 0.8391 - val_loss: 0.4322 - val_acc: 0.8442\n",
      "Epoch 122/200\n",
      " - 0s - loss: 0.3826 - acc: 0.8391 - val_loss: 0.4326 - val_acc: 0.8442\n",
      "Epoch 123/200\n",
      " - 0s - loss: 0.3823 - acc: 0.8370 - val_loss: 0.4330 - val_acc: 0.8506\n",
      "Epoch 124/200\n",
      " - 0s - loss: 0.3818 - acc: 0.8370 - val_loss: 0.4328 - val_acc: 0.8442\n",
      "Epoch 125/200\n",
      " - 0s - loss: 0.3816 - acc: 0.8370 - val_loss: 0.4327 - val_acc: 0.8506\n",
      "Epoch 126/200\n",
      " - 0s - loss: 0.3809 - acc: 0.8370 - val_loss: 0.4327 - val_acc: 0.8506\n",
      "Epoch 127/200\n",
      " - 0s - loss: 0.3807 - acc: 0.8370 - val_loss: 0.4330 - val_acc: 0.8506\n",
      "Epoch 128/200\n",
      " - 0s - loss: 0.3803 - acc: 0.8391 - val_loss: 0.4331 - val_acc: 0.8506\n",
      "Epoch 129/200\n",
      " - 0s - loss: 0.3802 - acc: 0.8391 - val_loss: 0.4332 - val_acc: 0.8506\n",
      "Epoch 130/200\n",
      " - 0s - loss: 0.3795 - acc: 0.8413 - val_loss: 0.4330 - val_acc: 0.8506\n",
      "Epoch 131/200\n",
      " - 0s - loss: 0.3790 - acc: 0.8435 - val_loss: 0.4328 - val_acc: 0.8506\n",
      "Epoch 132/200\n",
      " - 0s - loss: 0.3785 - acc: 0.8413 - val_loss: 0.4330 - val_acc: 0.8506\n",
      "Epoch 133/200\n",
      " - 0s - loss: 0.3781 - acc: 0.8413 - val_loss: 0.4333 - val_acc: 0.8506\n",
      "Epoch 134/200\n",
      " - 0s - loss: 0.3779 - acc: 0.8413 - val_loss: 0.4333 - val_acc: 0.8506\n",
      "Epoch 135/200\n",
      " - 0s - loss: 0.3774 - acc: 0.8413 - val_loss: 0.4331 - val_acc: 0.8506\n",
      "Epoch 136/200\n",
      " - 0s - loss: 0.3770 - acc: 0.8435 - val_loss: 0.4329 - val_acc: 0.8506\n",
      "Epoch 137/200\n",
      " - 0s - loss: 0.3764 - acc: 0.8413 - val_loss: 0.4328 - val_acc: 0.8506\n",
      "Epoch 138/200\n",
      " - 0s - loss: 0.3760 - acc: 0.8413 - val_loss: 0.4329 - val_acc: 0.8506\n",
      "Epoch 139/200\n",
      " - 0s - loss: 0.3755 - acc: 0.8413 - val_loss: 0.4338 - val_acc: 0.8506\n",
      "Epoch 140/200\n",
      " - 0s - loss: 0.3751 - acc: 0.8435 - val_loss: 0.4339 - val_acc: 0.8506\n",
      "Epoch 141/200\n",
      " - 0s - loss: 0.3749 - acc: 0.8413 - val_loss: 0.4341 - val_acc: 0.8506\n",
      "Epoch 142/200\n",
      " - 0s - loss: 0.3743 - acc: 0.8413 - val_loss: 0.4343 - val_acc: 0.8506\n",
      "Epoch 143/200\n",
      " - 0s - loss: 0.3740 - acc: 0.8413 - val_loss: 0.4338 - val_acc: 0.8506\n",
      "Epoch 144/200\n",
      " - 0s - loss: 0.3734 - acc: 0.8435 - val_loss: 0.4340 - val_acc: 0.8506\n",
      "Epoch 145/200\n",
      " - 0s - loss: 0.3731 - acc: 0.8435 - val_loss: 0.4337 - val_acc: 0.8506\n",
      "Epoch 146/200\n",
      " - 0s - loss: 0.3726 - acc: 0.8478 - val_loss: 0.4341 - val_acc: 0.8506\n",
      "Epoch 147/200\n",
      " - 0s - loss: 0.3722 - acc: 0.8478 - val_loss: 0.4340 - val_acc: 0.8506\n",
      "Epoch 148/200\n",
      " - 0s - loss: 0.3716 - acc: 0.8478 - val_loss: 0.4339 - val_acc: 0.8506\n",
      "Epoch 149/200\n",
      " - 0s - loss: 0.3715 - acc: 0.8457 - val_loss: 0.4341 - val_acc: 0.8506\n",
      "Epoch 150/200\n",
      " - 0s - loss: 0.3714 - acc: 0.8500 - val_loss: 0.4341 - val_acc: 0.8506\n",
      "Epoch 151/200\n",
      " - 0s - loss: 0.3704 - acc: 0.8478 - val_loss: 0.4340 - val_acc: 0.8506\n",
      "Epoch 152/200\n",
      " - 0s - loss: 0.3699 - acc: 0.8478 - val_loss: 0.4345 - val_acc: 0.8506\n",
      "Epoch 153/200\n",
      " - 0s - loss: 0.3694 - acc: 0.8478 - val_loss: 0.4344 - val_acc: 0.8506\n",
      "Epoch 154/200\n",
      " - 0s - loss: 0.3693 - acc: 0.8478 - val_loss: 0.4344 - val_acc: 0.8506\n",
      "Epoch 155/200\n",
      " - 0s - loss: 0.3689 - acc: 0.8457 - val_loss: 0.4347 - val_acc: 0.8506\n",
      "Epoch 156/200\n",
      " - 0s - loss: 0.3681 - acc: 0.8478 - val_loss: 0.4348 - val_acc: 0.8506\n",
      "Epoch 157/200\n",
      " - 0s - loss: 0.3679 - acc: 0.8478 - val_loss: 0.4347 - val_acc: 0.8506\n",
      "Epoch 158/200\n",
      " - 0s - loss: 0.3675 - acc: 0.8478 - val_loss: 0.4344 - val_acc: 0.8506\n",
      "Epoch 159/200\n",
      " - 0s - loss: 0.3672 - acc: 0.8478 - val_loss: 0.4356 - val_acc: 0.8506\n",
      "Epoch 160/200\n",
      " - 0s - loss: 0.3665 - acc: 0.8478 - val_loss: 0.4355 - val_acc: 0.8506\n",
      "Epoch 161/200\n",
      " - 0s - loss: 0.3662 - acc: 0.8478 - val_loss: 0.4355 - val_acc: 0.8506\n",
      "Epoch 162/200\n",
      " - 0s - loss: 0.3659 - acc: 0.8478 - val_loss: 0.4358 - val_acc: 0.8506\n",
      "Epoch 163/200\n",
      " - 0s - loss: 0.3656 - acc: 0.8478 - val_loss: 0.4354 - val_acc: 0.8506\n",
      "Epoch 164/200\n",
      " - 0s - loss: 0.3651 - acc: 0.8478 - val_loss: 0.4355 - val_acc: 0.8506\n",
      "Epoch 165/200\n",
      " - 0s - loss: 0.3650 - acc: 0.8478 - val_loss: 0.4356 - val_acc: 0.8506\n",
      "Epoch 166/200\n",
      " - 0s - loss: 0.3645 - acc: 0.8478 - val_loss: 0.4356 - val_acc: 0.8506\n",
      "Epoch 167/200\n",
      " - 0s - loss: 0.3635 - acc: 0.8478 - val_loss: 0.4355 - val_acc: 0.8506\n",
      "Epoch 168/200\n",
      " - 0s - loss: 0.3632 - acc: 0.8478 - val_loss: 0.4354 - val_acc: 0.8506\n",
      "Epoch 169/200\n",
      " - 0s - loss: 0.3628 - acc: 0.8478 - val_loss: 0.4354 - val_acc: 0.8506\n",
      "Epoch 170/200\n",
      " - 0s - loss: 0.3627 - acc: 0.8478 - val_loss: 0.4355 - val_acc: 0.8506\n",
      "Epoch 171/200\n",
      " - 0s - loss: 0.3625 - acc: 0.8478 - val_loss: 0.4357 - val_acc: 0.8506\n",
      "Epoch 172/200\n",
      " - 0s - loss: 0.3617 - acc: 0.8478 - val_loss: 0.4361 - val_acc: 0.8506\n",
      "Epoch 173/200\n",
      " - 0s - loss: 0.3609 - acc: 0.8478 - val_loss: 0.4361 - val_acc: 0.8506\n",
      "Epoch 174/200\n",
      " - 0s - loss: 0.3607 - acc: 0.8478 - val_loss: 0.4364 - val_acc: 0.8506\n",
      "Epoch 175/200\n",
      " - 0s - loss: 0.3603 - acc: 0.8478 - val_loss: 0.4363 - val_acc: 0.8506\n",
      "Epoch 176/200\n",
      " - 0s - loss: 0.3600 - acc: 0.8478 - val_loss: 0.4362 - val_acc: 0.8506\n",
      "Epoch 177/200\n",
      " - 0s - loss: 0.3594 - acc: 0.8478 - val_loss: 0.4360 - val_acc: 0.8506\n",
      "Epoch 178/200\n",
      " - 0s - loss: 0.3592 - acc: 0.8478 - val_loss: 0.4365 - val_acc: 0.8506\n",
      "Epoch 179/200\n",
      " - 0s - loss: 0.3589 - acc: 0.8478 - val_loss: 0.4366 - val_acc: 0.8506\n",
      "Epoch 180/200\n",
      " - 0s - loss: 0.3583 - acc: 0.8478 - val_loss: 0.4370 - val_acc: 0.8506\n",
      "Epoch 181/200\n",
      " - 0s - loss: 0.3579 - acc: 0.8478 - val_loss: 0.4373 - val_acc: 0.8506\n",
      "Epoch 182/200\n",
      " - 0s - loss: 0.3574 - acc: 0.8478 - val_loss: 0.4367 - val_acc: 0.8506\n",
      "Epoch 183/200\n",
      " - 0s - loss: 0.3574 - acc: 0.8478 - val_loss: 0.4362 - val_acc: 0.8506\n",
      "Epoch 184/200\n",
      " - 0s - loss: 0.3566 - acc: 0.8478 - val_loss: 0.4363 - val_acc: 0.8506\n",
      "Epoch 185/200\n",
      " - 0s - loss: 0.3563 - acc: 0.8478 - val_loss: 0.4367 - val_acc: 0.8506\n",
      "Epoch 186/200\n",
      " - 0s - loss: 0.3562 - acc: 0.8500 - val_loss: 0.4369 - val_acc: 0.8506\n",
      "Epoch 187/200\n",
      " - 0s - loss: 0.3553 - acc: 0.8500 - val_loss: 0.4376 - val_acc: 0.8506\n",
      "Epoch 188/200\n",
      " - 0s - loss: 0.3551 - acc: 0.8478 - val_loss: 0.4374 - val_acc: 0.8506\n",
      "Epoch 189/200\n",
      " - 0s - loss: 0.3548 - acc: 0.8478 - val_loss: 0.4374 - val_acc: 0.8506\n",
      "Epoch 190/200\n",
      " - 0s - loss: 0.3545 - acc: 0.8478 - val_loss: 0.4385 - val_acc: 0.8506\n",
      "Epoch 191/200\n",
      " - 0s - loss: 0.3542 - acc: 0.8500 - val_loss: 0.4383 - val_acc: 0.8506\n",
      "Epoch 192/200\n",
      " - 0s - loss: 0.3539 - acc: 0.8478 - val_loss: 0.4390 - val_acc: 0.8506\n"
     ]
    },
    {
     "name": "stdout",
     "output_type": "stream",
     "text": [
      "Epoch 193/200\n",
      " - 0s - loss: 0.3533 - acc: 0.8500 - val_loss: 0.4389 - val_acc: 0.8506\n",
      "Epoch 194/200\n",
      " - 0s - loss: 0.3525 - acc: 0.8500 - val_loss: 0.4396 - val_acc: 0.8506\n",
      "Epoch 195/200\n",
      " - 0s - loss: 0.3526 - acc: 0.8500 - val_loss: 0.4393 - val_acc: 0.8506\n",
      "Epoch 196/200\n",
      " - 0s - loss: 0.3519 - acc: 0.8500 - val_loss: 0.4395 - val_acc: 0.8506\n",
      "Epoch 197/200\n",
      " - 0s - loss: 0.3518 - acc: 0.8500 - val_loss: 0.4396 - val_acc: 0.8506\n",
      "Epoch 198/200\n",
      " - 0s - loss: 0.3515 - acc: 0.8500 - val_loss: 0.4397 - val_acc: 0.8506\n",
      "Epoch 199/200\n",
      " - 0s - loss: 0.3514 - acc: 0.8500 - val_loss: 0.4391 - val_acc: 0.8506\n",
      "Epoch 200/200\n",
      " - 0s - loss: 0.3510 - acc: 0.8478 - val_loss: 0.4392 - val_acc: 0.8506\n"
     ]
    }
   ],
   "source": [
    "model.compile(optimizer='SGD', \n",
    "              loss='binary_crossentropy', \n",
    "              metrics=['accuracy'])\n",
    "history = model.fit(\n",
    "    X_train_scaled,\n",
    "    y_train_categorical,\n",
    "    epochs=200,\n",
    "    shuffle=True,\n",
    "    verbose=2, validation_data = (X_test_scaled, y_test_categorical))"
   ]
  },
  {
   "cell_type": "code",
   "execution_count": 123,
   "metadata": {},
   "outputs": [
    {
     "name": "stdout",
     "output_type": "stream",
     "text": [
      "Normal Neural Network (NNN) with data >> Loss is 0.43924328491285247 and Accuracy is 0.8506493521975232\n"
     ]
    }
   ],
   "source": [
    "# Apply the model to the test data\n",
    "\n",
    "model_loss, model_accuracy = model.evaluate(X_test_scaled, y_test_categorical, verbose=2)\n",
    "print(f\"Normal Neural Network (NNN) with data >> Loss is {model_loss} and Accuracy is {model_accuracy}\")"
   ]
  },
  {
   "cell_type": "code",
   "execution_count": 124,
   "metadata": {},
   "outputs": [
    {
     "name": "stdout",
     "output_type": "stream",
     "text": [
      "_________________________________________________________________\n",
      "Layer (type)                 Output Shape              Param #   \n",
      "=================================================================\n",
      "dense_16 (Dense)             (None, 40)                440       \n",
      "_________________________________________________________________\n",
      "dense_17 (Dense)             (None, 40)                1640      \n",
      "_________________________________________________________________\n",
      "dense_18 (Dense)             (None, 2)                 82        \n",
      "=================================================================\n",
      "Total params: 2,162\n",
      "Trainable params: 2,162\n",
      "Non-trainable params: 0\n",
      "_________________________________________________________________\n"
     ]
    }
   ],
   "source": [
    "# model summary \n",
    "\n",
    "model.summary()"
   ]
  },
  {
   "cell_type": "code",
   "execution_count": 125,
   "metadata": {},
   "outputs": [
    {
     "data": {
      "text/plain": [
       "array([0, 1, 1, 1, 1, 1, 1, 0, 0, 1, 1, 1, 1, 1, 1, 1, 1, 1, 0, 1, 1, 0,\n",
       "       1, 1, 1, 1, 0, 1, 1, 1, 1, 1, 0, 1, 1, 1, 0, 1, 1, 1, 1, 1, 1, 1,\n",
       "       1, 1, 1, 1, 1, 1, 1, 1, 0, 1, 1, 0, 1, 1, 1, 1, 1, 1, 1, 1, 1, 1,\n",
       "       1, 1, 1, 0, 1, 1, 1, 1, 1, 1, 1, 1, 1, 1, 0, 1, 1, 0, 1, 1, 1, 1,\n",
       "       1, 1, 0, 1, 0, 0, 1, 1, 0, 0, 1, 1, 1, 0, 1, 1, 1, 1, 1, 1, 1, 1,\n",
       "       1, 1, 1, 0, 1, 1, 1, 1, 1, 1, 0, 1, 1, 0, 1, 1, 1, 1, 1, 1, 1, 1,\n",
       "       1, 0, 1, 1, 1, 1, 0, 1, 1, 1, 1, 1, 1, 0, 1, 1, 1, 1, 1, 1, 1, 1],\n",
       "      dtype=int64)"
      ]
     },
     "execution_count": 125,
     "metadata": {},
     "output_type": "execute_result"
    }
   ],
   "source": [
    "# Predictions with the test data\n",
    "\n",
    "predictions = model.predict_classes(X_test_scaled)\n",
    "predictions"
   ]
  },
  {
   "cell_type": "code",
   "execution_count": 126,
   "metadata": {},
   "outputs": [
    {
     "name": "stdout",
     "output_type": "stream",
     "text": [
      "             precision    recall  f1-score   support\n",
      "\n",
      "          0       1.00      0.52      0.68        48\n",
      "          1       0.82      1.00      0.90       106\n",
      "\n",
      "avg / total       0.88      0.85      0.83       154\n",
      "\n"
     ]
    }
   ],
   "source": [
    "# classification of the model\n",
    "\n",
    "from sklearn.metrics import classification_report\n",
    "print(classification_report(y_test, predictions))"
   ]
  },
  {
   "cell_type": "code",
   "execution_count": 127,
   "metadata": {},
   "outputs": [
    {
     "data": {
      "text/plain": [
       "['model_scaler.pkl']"
      ]
     },
     "execution_count": 127,
     "metadata": {},
     "output_type": "execute_result"
    }
   ],
   "source": [
    "# Classifiers are just objects that can be pickled and dumped like any other\n",
    "\n",
    "from sklearn.externals import joblib\n",
    "joblib.dump(X_scaler, 'model_scaler.pkl')"
   ]
  },
  {
   "cell_type": "code",
   "execution_count": 128,
   "metadata": {
    "collapsed": true
   },
   "outputs": [],
   "source": [
    "# Save the model\n",
    "\n",
    "model.save(\"model_keras.h5\")"
   ]
  },
  {
   "cell_type": "code",
   "execution_count": null,
   "metadata": {
    "collapsed": true
   },
   "outputs": [],
   "source": []
  }
 ],
 "metadata": {
  "kernelspec": {
   "display_name": "Python 3",
   "language": "python",
   "name": "python3"
  },
  "language_info": {
   "codemirror_mode": {
    "name": "ipython",
    "version": 3
   },
   "file_extension": ".py",
   "mimetype": "text/x-python",
   "name": "python",
   "nbconvert_exporter": "python",
   "pygments_lexer": "ipython3",
   "version": "3.6.2"
  }
 },
 "nbformat": 4,
 "nbformat_minor": 2
}
