{
 "cells": [
  {
   "cell_type": "code",
   "execution_count": 17,
   "metadata": {
    "collapsed": true
   },
   "outputs": [],
   "source": [
    "# Import dependencies\n",
    "import numpy as np\n",
    "import pandas as pd"
   ]
  },
  {
   "cell_type": "code",
   "execution_count": 18,
   "metadata": {},
   "outputs": [
    {
     "name": "stdout",
     "output_type": "stream",
     "text": [
      "analysis_clean_train_data.ipynb\n",
      "clean_train_data.ipynb\n",
      "CleanTrainData.csv\n",
      "data_for_model.csv\n",
      "data_for_model.ipynb\n",
      "keras_model.ipynb\n",
      "keras_model_adam.ipynb\n",
      "Loan_Approval\n",
      "model_keras.h5\n",
      "model_scaler.pkl\n",
      "random_forest_test.ipynb\n",
      "TrainData.csv\n",
      "with.csv\n",
      "without.csv\n"
     ]
    }
   ],
   "source": [
    "!ls"
   ]
  },
  {
   "cell_type": "code",
   "execution_count": 19,
   "metadata": {
    "collapsed": true
   },
   "outputs": [],
   "source": [
    "# read the data\n",
    "\n",
    "data = pd.read_csv(\"data_for_model.csv\")"
   ]
  },
  {
   "cell_type": "code",
   "execution_count": 20,
   "metadata": {
    "scrolled": true
   },
   "outputs": [
    {
     "data": {
      "text/html": [
       "<div>\n",
       "<style>\n",
       "    .dataframe thead tr:only-child th {\n",
       "        text-align: right;\n",
       "    }\n",
       "\n",
       "    .dataframe thead th {\n",
       "        text-align: left;\n",
       "    }\n",
       "\n",
       "    .dataframe tbody tr th {\n",
       "        vertical-align: top;\n",
       "    }\n",
       "</style>\n",
       "<table border=\"1\" class=\"dataframe\">\n",
       "  <thead>\n",
       "    <tr style=\"text-align: right;\">\n",
       "      <th></th>\n",
       "      <th>Unnamed: 0</th>\n",
       "      <th>Married</th>\n",
       "      <th>Dependents</th>\n",
       "      <th>Education</th>\n",
       "      <th>Self_Employed</th>\n",
       "      <th>ApplicantIncome</th>\n",
       "      <th>CoapplicantIncome</th>\n",
       "      <th>LoanAmount</th>\n",
       "      <th>Loan_Amount_Term</th>\n",
       "      <th>Credit_History</th>\n",
       "      <th>Property_Area</th>\n",
       "      <th>Loan_Status</th>\n",
       "    </tr>\n",
       "  </thead>\n",
       "  <tbody>\n",
       "    <tr>\n",
       "      <th>609</th>\n",
       "      <td>609</td>\n",
       "      <td>0</td>\n",
       "      <td>0</td>\n",
       "      <td>1</td>\n",
       "      <td>0</td>\n",
       "      <td>2900</td>\n",
       "      <td>0.0</td>\n",
       "      <td>71.0</td>\n",
       "      <td>360.0</td>\n",
       "      <td>1.0</td>\n",
       "      <td>2</td>\n",
       "      <td>1</td>\n",
       "    </tr>\n",
       "    <tr>\n",
       "      <th>610</th>\n",
       "      <td>610</td>\n",
       "      <td>1</td>\n",
       "      <td>3</td>\n",
       "      <td>1</td>\n",
       "      <td>0</td>\n",
       "      <td>4106</td>\n",
       "      <td>0.0</td>\n",
       "      <td>40.0</td>\n",
       "      <td>180.0</td>\n",
       "      <td>1.0</td>\n",
       "      <td>2</td>\n",
       "      <td>1</td>\n",
       "    </tr>\n",
       "    <tr>\n",
       "      <th>611</th>\n",
       "      <td>611</td>\n",
       "      <td>1</td>\n",
       "      <td>1</td>\n",
       "      <td>1</td>\n",
       "      <td>0</td>\n",
       "      <td>8072</td>\n",
       "      <td>240.0</td>\n",
       "      <td>253.0</td>\n",
       "      <td>360.0</td>\n",
       "      <td>1.0</td>\n",
       "      <td>0</td>\n",
       "      <td>1</td>\n",
       "    </tr>\n",
       "    <tr>\n",
       "      <th>612</th>\n",
       "      <td>612</td>\n",
       "      <td>1</td>\n",
       "      <td>2</td>\n",
       "      <td>1</td>\n",
       "      <td>0</td>\n",
       "      <td>7583</td>\n",
       "      <td>0.0</td>\n",
       "      <td>187.0</td>\n",
       "      <td>360.0</td>\n",
       "      <td>1.0</td>\n",
       "      <td>0</td>\n",
       "      <td>1</td>\n",
       "    </tr>\n",
       "    <tr>\n",
       "      <th>613</th>\n",
       "      <td>613</td>\n",
       "      <td>0</td>\n",
       "      <td>0</td>\n",
       "      <td>1</td>\n",
       "      <td>1</td>\n",
       "      <td>4583</td>\n",
       "      <td>0.0</td>\n",
       "      <td>133.0</td>\n",
       "      <td>360.0</td>\n",
       "      <td>0.0</td>\n",
       "      <td>1</td>\n",
       "      <td>0</td>\n",
       "    </tr>\n",
       "  </tbody>\n",
       "</table>\n",
       "</div>"
      ],
      "text/plain": [
       "     Unnamed: 0  Married  Dependents  Education  Self_Employed  \\\n",
       "609         609        0           0          1              0   \n",
       "610         610        1           3          1              0   \n",
       "611         611        1           1          1              0   \n",
       "612         612        1           2          1              0   \n",
       "613         613        0           0          1              1   \n",
       "\n",
       "     ApplicantIncome  CoapplicantIncome  LoanAmount  Loan_Amount_Term  \\\n",
       "609             2900                0.0        71.0             360.0   \n",
       "610             4106                0.0        40.0             180.0   \n",
       "611             8072              240.0       253.0             360.0   \n",
       "612             7583                0.0       187.0             360.0   \n",
       "613             4583                0.0       133.0             360.0   \n",
       "\n",
       "     Credit_History  Property_Area  Loan_Status  \n",
       "609             1.0              2            1  \n",
       "610             1.0              2            1  \n",
       "611             1.0              0            1  \n",
       "612             1.0              0            1  \n",
       "613             0.0              1            0  "
      ]
     },
     "execution_count": 20,
     "metadata": {},
     "output_type": "execute_result"
    }
   ],
   "source": [
    "data.tail()"
   ]
  },
  {
   "cell_type": "code",
   "execution_count": 21,
   "metadata": {},
   "outputs": [
    {
     "name": "stdout",
     "output_type": "stream",
     "text": [
      "(614, 11) (614,)\n"
     ]
    }
   ],
   "source": [
    "# prep X and y \n",
    "# where 'loan status' as output \n",
    "\n",
    "X = data.drop(\"Loan_Status\", axis=1)\n",
    "y = data[\"Loan_Status\"]\n",
    "print(X.shape, y.shape)"
   ]
  },
  {
   "cell_type": "code",
   "execution_count": 22,
   "metadata": {},
   "outputs": [],
   "source": [
    "# use sklearn model\n",
    "# TensorFlow\n",
    "\n",
    "from sklearn.model_selection import train_test_split\n",
    "from sklearn.preprocessing import LabelEncoder, StandardScaler\n",
    "from keras.utils import to_categorical"
   ]
  },
  {
   "cell_type": "code",
   "execution_count": 23,
   "metadata": {},
   "outputs": [],
   "source": [
    "# prep test and training data\n",
    "\n",
    "X_train, X_test, y_train, y_test = train_test_split(X, y, random_state=1, stratify=y)\n",
    "X_scaler = StandardScaler().fit(X_train)\n",
    "X_train_scaled = X_scaler.transform(X_train)\n",
    "X_test_scaled = X_scaler.transform(X_test)"
   ]
  },
  {
   "cell_type": "code",
   "execution_count": 24,
   "metadata": {
    "collapsed": true
   },
   "outputs": [],
   "source": [
    "# Step 1: Label-encode data set\n",
    "label_encoder = LabelEncoder()\n",
    "label_encoder.fit(y_train)\n",
    "encoded_y_train = label_encoder.transform(y_train)\n",
    "encoded_y_test = label_encoder.transform(y_test)"
   ]
  },
  {
   "cell_type": "code",
   "execution_count": 25,
   "metadata": {
    "collapsed": true
   },
   "outputs": [],
   "source": [
    "# Step 2: Convert encoded labels to one-hot-encoding\n",
    "y_train_categorical = to_categorical(encoded_y_train)\n",
    "y_test_categorical = to_categorical(encoded_y_test)"
   ]
  },
  {
   "cell_type": "code",
   "execution_count": 26,
   "metadata": {
    "collapsed": true
   },
   "outputs": [],
   "source": [
    "from keras.models import Sequential\n",
    "from keras.layers import Dense"
   ]
  },
  {
   "cell_type": "code",
   "execution_count": 27,
   "metadata": {
    "collapsed": true
   },
   "outputs": [],
   "source": [
    "model = Sequential()\n",
    "model.add(Dense(units=40, activation='relu', input_dim=11))\n",
    "model.add(Dense(units=40, activation='relu'))\n",
    "model.add(Dense(units=2, activation='softmax'))"
   ]
  },
  {
   "cell_type": "code",
   "execution_count": 28,
   "metadata": {},
   "outputs": [
    {
     "name": "stdout",
     "output_type": "stream",
     "text": [
      "Epoch 1/100\n",
      " - 0s - loss: 0.6742 - acc: 0.6283\n",
      "Epoch 2/100\n",
      " - 0s - loss: 0.5762 - acc: 0.7652\n",
      "Epoch 3/100\n",
      " - 0s - loss: 0.5281 - acc: 0.7978\n",
      "Epoch 4/100\n",
      " - 0s - loss: 0.4930 - acc: 0.8174\n",
      "Epoch 5/100\n",
      " - 0s - loss: 0.4671 - acc: 0.8174\n",
      "Epoch 6/100\n",
      " - 0s - loss: 0.4546 - acc: 0.8217\n",
      "Epoch 7/100\n",
      " - 0s - loss: 0.4405 - acc: 0.8217\n",
      "Epoch 8/100\n",
      " - 0s - loss: 0.4313 - acc: 0.8239\n",
      "Epoch 9/100\n",
      " - 0s - loss: 0.4270 - acc: 0.8261\n",
      "Epoch 10/100\n",
      " - 0s - loss: 0.4207 - acc: 0.8326\n",
      "Epoch 11/100\n",
      " - 0s - loss: 0.4155 - acc: 0.8326\n",
      "Epoch 12/100\n",
      " - 0s - loss: 0.4103 - acc: 0.8348\n",
      "Epoch 13/100\n",
      " - 0s - loss: 0.4068 - acc: 0.8348\n",
      "Epoch 14/100\n",
      " - 0s - loss: 0.4015 - acc: 0.8370\n",
      "Epoch 15/100\n",
      " - 0s - loss: 0.4001 - acc: 0.8348\n",
      "Epoch 16/100\n",
      " - 0s - loss: 0.3950 - acc: 0.8348\n",
      "Epoch 17/100\n",
      " - 0s - loss: 0.3902 - acc: 0.8370\n",
      "Epoch 18/100\n",
      " - 0s - loss: 0.3864 - acc: 0.8370\n",
      "Epoch 19/100\n",
      " - 0s - loss: 0.3826 - acc: 0.8413\n",
      "Epoch 20/100\n",
      " - 0s - loss: 0.3777 - acc: 0.8435\n",
      "Epoch 21/100\n",
      " - 0s - loss: 0.3736 - acc: 0.8435\n",
      "Epoch 22/100\n",
      " - 0s - loss: 0.3707 - acc: 0.8457\n",
      "Epoch 23/100\n",
      " - 0s - loss: 0.3653 - acc: 0.8435\n",
      "Epoch 24/100\n",
      " - 0s - loss: 0.3649 - acc: 0.8413\n",
      "Epoch 25/100\n",
      " - 0s - loss: 0.3625 - acc: 0.8543\n",
      "Epoch 26/100\n",
      " - 0s - loss: 0.3541 - acc: 0.8522\n",
      "Epoch 27/100\n",
      " - 0s - loss: 0.3530 - acc: 0.8457\n",
      "Epoch 28/100\n",
      " - 0s - loss: 0.3475 - acc: 0.8522\n",
      "Epoch 29/100\n",
      " - 0s - loss: 0.3448 - acc: 0.8630\n",
      "Epoch 30/100\n",
      " - 0s - loss: 0.3444 - acc: 0.8478\n",
      "Epoch 31/100\n",
      " - 0s - loss: 0.3443 - acc: 0.8652\n",
      "Epoch 32/100\n",
      " - 0s - loss: 0.3332 - acc: 0.8696\n",
      "Epoch 33/100\n",
      " - 0s - loss: 0.3316 - acc: 0.8609\n",
      "Epoch 34/100\n",
      " - 0s - loss: 0.3267 - acc: 0.8674\n",
      "Epoch 35/100\n",
      " - 0s - loss: 0.3248 - acc: 0.8717\n",
      "Epoch 36/100\n",
      " - 0s - loss: 0.3214 - acc: 0.8717\n",
      "Epoch 37/100\n",
      " - 0s - loss: 0.3178 - acc: 0.8826\n",
      "Epoch 38/100\n",
      " - 0s - loss: 0.3133 - acc: 0.8783\n",
      "Epoch 39/100\n",
      " - 0s - loss: 0.3123 - acc: 0.8739\n",
      "Epoch 40/100\n",
      " - 0s - loss: 0.3072 - acc: 0.8804\n",
      "Epoch 41/100\n",
      " - 0s - loss: 0.3071 - acc: 0.8761\n",
      "Epoch 42/100\n",
      " - 0s - loss: 0.3048 - acc: 0.8870\n",
      "Epoch 43/100\n",
      " - 0s - loss: 0.2995 - acc: 0.8891\n",
      "Epoch 44/100\n",
      " - 0s - loss: 0.2960 - acc: 0.8826\n",
      "Epoch 45/100\n",
      " - 0s - loss: 0.2930 - acc: 0.8804\n",
      "Epoch 46/100\n",
      " - 0s - loss: 0.2910 - acc: 0.8957\n",
      "Epoch 47/100\n",
      " - 0s - loss: 0.2868 - acc: 0.8848\n",
      "Epoch 48/100\n",
      " - 0s - loss: 0.2850 - acc: 0.8891\n",
      "Epoch 49/100\n",
      " - 0s - loss: 0.2828 - acc: 0.8870\n",
      "Epoch 50/100\n",
      " - 0s - loss: 0.2807 - acc: 0.8891\n",
      "Epoch 51/100\n",
      " - 0s - loss: 0.2754 - acc: 0.8957\n",
      "Epoch 52/100\n",
      " - 0s - loss: 0.2733 - acc: 0.8935\n",
      "Epoch 53/100\n",
      " - 0s - loss: 0.2720 - acc: 0.8913\n",
      "Epoch 54/100\n",
      " - 0s - loss: 0.2711 - acc: 0.8978\n",
      "Epoch 55/100\n",
      " - 0s - loss: 0.2691 - acc: 0.8913\n",
      "Epoch 56/100\n",
      " - 0s - loss: 0.2638 - acc: 0.9000\n",
      "Epoch 57/100\n",
      " - 0s - loss: 0.2632 - acc: 0.9065\n",
      "Epoch 58/100\n",
      " - 0s - loss: 0.2582 - acc: 0.9000\n",
      "Epoch 59/100\n",
      " - 0s - loss: 0.2556 - acc: 0.9130\n",
      "Epoch 60/100\n",
      " - 0s - loss: 0.2529 - acc: 0.9087\n",
      "Epoch 61/100\n",
      " - 0s - loss: 0.2536 - acc: 0.9087\n",
      "Epoch 62/100\n",
      " - 0s - loss: 0.2484 - acc: 0.9109\n",
      "Epoch 63/100\n",
      " - 0s - loss: 0.2489 - acc: 0.9022\n",
      "Epoch 64/100\n",
      " - 0s - loss: 0.2444 - acc: 0.9196\n",
      "Epoch 65/100\n",
      " - 0s - loss: 0.2410 - acc: 0.9130\n",
      "Epoch 66/100\n",
      " - 0s - loss: 0.2398 - acc: 0.9109\n",
      "Epoch 67/100\n",
      " - 0s - loss: 0.2364 - acc: 0.9174\n",
      "Epoch 68/100\n",
      " - 0s - loss: 0.2346 - acc: 0.9152\n",
      "Epoch 69/100\n",
      " - 0s - loss: 0.2326 - acc: 0.9239\n",
      "Epoch 70/100\n",
      " - 0s - loss: 0.2300 - acc: 0.9217\n",
      "Epoch 71/100\n",
      " - 0s - loss: 0.2275 - acc: 0.9174\n",
      "Epoch 72/100\n",
      " - 0s - loss: 0.2257 - acc: 0.9196\n",
      "Epoch 73/100\n",
      " - 0s - loss: 0.2238 - acc: 0.9239\n",
      "Epoch 74/100\n",
      " - 0s - loss: 0.2254 - acc: 0.9217\n",
      "Epoch 75/100\n",
      " - 0s - loss: 0.2192 - acc: 0.9130\n",
      "Epoch 76/100\n",
      " - 0s - loss: 0.2162 - acc: 0.9304\n",
      "Epoch 77/100\n",
      " - 0s - loss: 0.2141 - acc: 0.9283\n",
      "Epoch 78/100\n",
      " - 0s - loss: 0.2134 - acc: 0.9283\n",
      "Epoch 79/100\n",
      " - 0s - loss: 0.2097 - acc: 0.9261\n",
      "Epoch 80/100\n",
      " - 0s - loss: 0.2082 - acc: 0.9283\n",
      "Epoch 81/100\n",
      " - 0s - loss: 0.2083 - acc: 0.9261\n",
      "Epoch 82/100\n",
      " - 0s - loss: 0.2058 - acc: 0.9304\n",
      "Epoch 83/100\n",
      " - 0s - loss: 0.2026 - acc: 0.9304\n",
      "Epoch 84/100\n",
      " - 0s - loss: 0.2016 - acc: 0.9283\n",
      "Epoch 85/100\n",
      " - 0s - loss: 0.2001 - acc: 0.9370\n",
      "Epoch 86/100\n",
      " - 0s - loss: 0.1960 - acc: 0.9348\n",
      "Epoch 87/100\n",
      " - 0s - loss: 0.1956 - acc: 0.9326\n",
      "Epoch 88/100\n",
      " - 0s - loss: 0.1932 - acc: 0.9391\n",
      "Epoch 89/100\n",
      " - 0s - loss: 0.1930 - acc: 0.9413\n",
      "Epoch 90/100\n",
      " - 0s - loss: 0.1913 - acc: 0.9370\n",
      "Epoch 91/100\n",
      " - 0s - loss: 0.1868 - acc: 0.9413\n",
      "Epoch 92/100\n",
      " - 0s - loss: 0.1848 - acc: 0.9435\n",
      "Epoch 93/100\n",
      " - 0s - loss: 0.1836 - acc: 0.9413\n",
      "Epoch 94/100\n",
      " - 0s - loss: 0.1814 - acc: 0.9457\n",
      "Epoch 95/100\n",
      " - 0s - loss: 0.1806 - acc: 0.9457\n",
      "Epoch 96/100\n",
      " - 0s - loss: 0.1765 - acc: 0.9435\n",
      "Epoch 97/100\n",
      " - 0s - loss: 0.1778 - acc: 0.9348\n",
      "Epoch 98/100\n",
      " - 0s - loss: 0.1775 - acc: 0.9391\n",
      "Epoch 99/100\n",
      " - 0s - loss: 0.1725 - acc: 0.9435\n",
      "Epoch 100/100\n",
      " - 0s - loss: 0.1676 - acc: 0.9457\n"
     ]
    },
    {
     "data": {
      "text/plain": [
       "<keras.callbacks.History at 0x1b20723bef0>"
      ]
     },
     "execution_count": 28,
     "metadata": {},
     "output_type": "execute_result"
    }
   ],
   "source": [
    "model.compile(optimizer='adam', \n",
    "              loss='categorical_crossentropy', \n",
    "              metrics=['accuracy'])\n",
    "\n",
    "model.fit(\n",
    "    X_train_scaled,\n",
    "    y_train_categorical,\n",
    "    epochs=100,\n",
    "    shuffle=True,\n",
    "    verbose=2)"
   ]
  },
  {
   "cell_type": "code",
   "execution_count": 29,
   "metadata": {},
   "outputs": [
    {
     "name": "stdout",
     "output_type": "stream",
     "text": [
      "Normal Neural Network (NNN) with data >> Loss is 0.5984590502528401 and Accuracy is 0.7987012963790399\n"
     ]
    }
   ],
   "source": [
    "# Apply the model to the test data\n",
    "\n",
    "model_loss, model_accuracy = model.evaluate(X_test_scaled, y_test_categorical, verbose=2)\n",
    "print(f\"Normal Neural Network (NNN) with data >> Loss is {model_loss} and Accuracy is {model_accuracy}\")"
   ]
  },
  {
   "cell_type": "code",
   "execution_count": 30,
   "metadata": {
    "scrolled": true
   },
   "outputs": [
    {
     "name": "stdout",
     "output_type": "stream",
     "text": [
      "_________________________________________________________________\n",
      "Layer (type)                 Output Shape              Param #   \n",
      "=================================================================\n",
      "dense_4 (Dense)              (None, 40)                480       \n",
      "_________________________________________________________________\n",
      "dense_5 (Dense)              (None, 40)                1640      \n",
      "_________________________________________________________________\n",
      "dense_6 (Dense)              (None, 2)                 82        \n",
      "=================================================================\n",
      "Total params: 2,202\n",
      "Trainable params: 2,202\n",
      "Non-trainable params: 0\n",
      "_________________________________________________________________\n"
     ]
    }
   ],
   "source": [
    "# model summary \n",
    "\n",
    "model.summary()"
   ]
  },
  {
   "cell_type": "code",
   "execution_count": 31,
   "metadata": {},
   "outputs": [
    {
     "data": {
      "text/plain": [
       "460"
      ]
     },
     "execution_count": 31,
     "metadata": {},
     "output_type": "execute_result"
    }
   ],
   "source": [
    "len(X_train_scaled)"
   ]
  },
  {
   "cell_type": "code",
   "execution_count": 32,
   "metadata": {},
   "outputs": [
    {
     "data": {
      "text/plain": [
       "460"
      ]
     },
     "execution_count": 32,
     "metadata": {},
     "output_type": "execute_result"
    }
   ],
   "source": [
    "len(y_train_categorical)"
   ]
  },
  {
   "cell_type": "code",
   "execution_count": 33,
   "metadata": {},
   "outputs": [
    {
     "data": {
      "text/plain": [
       "array([0, 1, 1, 1, 1, 0, 1, 1, 0, 1, 1, 0, 1, 1, 1, 1, 1, 1, 0, 1, 1, 0,\n",
       "       1, 1, 1, 1, 0, 1, 1, 0, 1, 1, 0, 1, 1, 1, 0, 1, 1, 1, 1, 1, 1, 1,\n",
       "       1, 1, 0, 1, 1, 1, 1, 1, 0, 1, 1, 0, 1, 1, 1, 1, 1, 1, 1, 0, 1, 1,\n",
       "       0, 1, 1, 0, 1, 1, 1, 1, 1, 1, 0, 1, 1, 0, 0, 1, 1, 0, 0, 1, 1, 0,\n",
       "       1, 1, 0, 1, 0, 0, 1, 1, 0, 0, 0, 1, 1, 0, 1, 1, 1, 1, 1, 1, 1, 1,\n",
       "       1, 1, 0, 0, 1, 1, 1, 1, 1, 1, 0, 1, 1, 0, 0, 0, 1, 1, 1, 1, 1, 0,\n",
       "       0, 0, 1, 1, 1, 1, 0, 1, 1, 1, 1, 1, 1, 0, 1, 1, 1, 1, 0, 1, 1, 1],\n",
       "      dtype=int64)"
      ]
     },
     "execution_count": 33,
     "metadata": {},
     "output_type": "execute_result"
    }
   ],
   "source": [
    "# Predictions with the test data\n",
    "\n",
    "predictions = model.predict_classes(X_test_scaled)\n",
    "predictions"
   ]
  },
  {
   "cell_type": "code",
   "execution_count": 34,
   "metadata": {},
   "outputs": [
    {
     "name": "stdout",
     "output_type": "stream",
     "text": [
      "             precision    recall  f1-score   support\n",
      "\n",
      "          0       0.71      0.60      0.65        48\n",
      "          1       0.83      0.89      0.86       106\n",
      "\n",
      "avg / total       0.79      0.80      0.79       154\n",
      "\n"
     ]
    }
   ],
   "source": [
    "# classification of the model\n",
    "\n",
    "from sklearn.metrics import classification_report\n",
    "print(classification_report(y_test, predictions))"
   ]
  },
  {
   "cell_type": "code",
   "execution_count": 35,
   "metadata": {},
   "outputs": [
    {
     "data": {
      "text/plain": [
       "['model_scaler_adam.pkl']"
      ]
     },
     "execution_count": 35,
     "metadata": {},
     "output_type": "execute_result"
    }
   ],
   "source": [
    "# Classifiers are just objects that can be pickled and dumped like any other\n",
    "\n",
    "from sklearn.externals import joblib\n",
    "joblib.dump(X_scaler, 'model_scaler_adam.pkl')"
   ]
  },
  {
   "cell_type": "code",
   "execution_count": 36,
   "metadata": {
    "collapsed": true
   },
   "outputs": [],
   "source": [
    "# Save the model\n",
    "model.save(\"model_keras_adam.h5\")"
   ]
  },
  {
   "cell_type": "code",
   "execution_count": null,
   "metadata": {
    "collapsed": true
   },
   "outputs": [],
   "source": []
  }
 ],
 "metadata": {
  "kernelspec": {
   "display_name": "Python 3",
   "language": "python",
   "name": "python3"
  },
  "language_info": {
   "codemirror_mode": {
    "name": "ipython",
    "version": 3
   },
   "file_extension": ".py",
   "mimetype": "text/x-python",
   "name": "python",
   "nbconvert_exporter": "python",
   "pygments_lexer": "ipython3",
   "version": "3.6.2"
  }
 },
 "nbformat": 4,
 "nbformat_minor": 2
}
